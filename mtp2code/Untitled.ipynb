{
 "cells": [
  {
   "cell_type": "code",
   "execution_count": 2,
   "id": "ad0f65c5-76fb-42f4-a3b9-72cb549b90b4",
   "metadata": {},
   "outputs": [
    {
     "name": "stdout",
     "output_type": "stream",
     "text": [
      "2\n",
      "1\n"
     ]
    }
   ],
   "source": [
    "def add(a):\n",
    "    a += 1\n",
    "\n",
    "a = 1\n",
    "print(add(a))\n",
    "print(a)"
   ]
  },
  {
   "cell_type": "code",
   "execution_count": 3,
   "id": "97ea66d1-ec69-4d29-ad91-1042c67d1cbe",
   "metadata": {},
   "outputs": [
    {
     "name": "stdout",
     "output_type": "stream",
     "text": [
      "None\n",
      "['1', 'a']\n"
     ]
    }
   ],
   "source": [
    "def app(a):\n",
    "    a.append('a')\n",
    "    \n",
    "a = ['1']\n",
    "print(app(a))\n",
    "print(a)"
   ]
  },
  {
   "cell_type": "code",
   "execution_count": 4,
   "id": "9439e23e-a4ff-46f7-bf39-2f8d52270dc9",
   "metadata": {},
   "outputs": [
    {
     "name": "stdout",
     "output_type": "stream",
     "text": [
      "None\n",
      "['1', 'a']\n"
     ]
    }
   ],
   "source": [
    "def app(a):\n",
    "    a.append('a')\n",
    "    a = ['b']\n",
    "    \n",
    "a = ['1']\n",
    "print(app(a))\n",
    "print(a)"
   ]
  },
  {
   "cell_type": "code",
   "execution_count": 5,
   "id": "0a7b0586-d8d8-425f-bbf3-4441469ab303",
   "metadata": {},
   "outputs": [
    {
     "name": "stdout",
     "output_type": "stream",
     "text": [
      "1 ['1', 'b']\n"
     ]
    }
   ],
   "source": [
    "def add_app(a,l):\n",
    "    a += 2\n",
    "    l[0] ='1'\n",
    "\n",
    "a = 1\n",
    "l = ['a','b']\n",
    "add_app(a,l)\n",
    "print(a,l)"
   ]
  },
  {
   "cell_type": "code",
   "execution_count": 10,
   "id": "033250ec-59cb-4f75-b800-0c06b6200aab",
   "metadata": {},
   "outputs": [
    {
     "name": "stdout",
     "output_type": "stream",
     "text": [
      "(())(())\n"
     ]
    }
   ],
   "source": [
    "a = [\"()()()()\",\"()()(())\",\"()(()())\",\"()((()))\",\"()(())()\",\"(()()())\",\"(()(()))\",\"((()()))\",\"(((())))\",\"((())())\",\"(()())()\",\"((()))()\",\"(())()()\"]\n",
    "b = [\"(((())))\",\"((()()))\",\"((())())\",\"((()))()\",\"(()(()))\",\"(()()())\",\"(()())()\",\"(())(())\",\"(())()()\",\"()((()))\",\"()(()())\",\"()(())()\",\"()()(())\",\"()()()()\"]\n",
    "for el in b:\n",
    "    if el not in a:\n",
    "        print(el)"
   ]
  },
  {
   "cell_type": "code",
   "execution_count": 9,
   "id": "7c87cd74-7033-41a8-b2bc-b2d4b4f448d7",
   "metadata": {},
   "outputs": [
    {
     "name": "stdout",
     "output_type": "stream",
     "text": [
      "[1, 2, 3, 3]\n"
     ]
    }
   ],
   "source": [
    "def change(a):\n",
    "    b = a.copy()\n",
    "    b[3]=4\n",
    "    return\n",
    "\n",
    "a = [1,2,3,3]\n",
    "change(a)\n",
    "\n",
    "print(a)\n"
   ]
  },
  {
   "cell_type": "code",
   "execution_count": 14,
   "id": "dab6fb03-2204-4a66-84d7-7433785b3121",
   "metadata": {},
   "outputs": [
    {
     "name": "stdout",
     "output_type": "stream",
     "text": [
      "Gopi\n",
      "50285\n"
     ]
    }
   ],
   "source": [
    "class unknown:\n",
    "    pass\n",
    "\n",
    "a = unknown()\n",
    "a.name = \"Gopi\"\n",
    "print(a.name)\n",
    "b = unknown()\n",
    "b.roll = \"50285\"\n",
    "print(b.roll)"
   ]
  },
  {
   "cell_type": "code",
   "execution_count": 17,
   "id": "70846252-68c2-4aab-a3c7-d1fc2e3e5b97",
   "metadata": {},
   "outputs": [
    {
     "name": "stdout",
     "output_type": "stream",
     "text": [
      "True\n",
      "False\n",
      "True\n"
     ]
    }
   ],
   "source": [
    "x = \"Gopi Veerendra\"\n",
    "print(\"i \" in x)\n",
    "print(\"I \" in x)\n",
    "print(\"pi \" in x)"
   ]
  },
  {
   "cell_type": "code",
   "execution_count": 21,
   "id": "64a091de-52fc-430a-98dc-7e18d5fdd120",
   "metadata": {},
   "outputs": [
    {
     "name": "stdout",
     "output_type": "stream",
     "text": [
      "[(1, 'eat'), (2, 'study'), (3, 'sleep')]\n",
      "[(1, 'eat', 'cool'), (2, 'study', 'hot')]\n",
      "3 1 1\n"
     ]
    }
   ],
   "source": [
    "a = [1,2,3]\n",
    "b = ['eat','study','sleep']\n",
    "c = [\"cool\", \"hot\"]\n",
    "print(list(zip(a,b)))\n",
    "print(list(zip(a,b,c)))\n",
    "\n",
    "l = m = n = 1\n",
    "l = 3\n",
    "print(l,m,n)\n"
   ]
  },
  {
   "cell_type": "code",
   "execution_count": 22,
   "id": "11d06f0b-1060-49e2-89db-0fd9e418cb79",
   "metadata": {},
   "outputs": [
    {
     "name": "stdout",
     "output_type": "stream",
     "text": [
      "There is an error\n"
     ]
    }
   ],
   "source": [
    "a = (1,2,3)\n",
    "try:\n",
    "   a[0] = 2\n",
    "except:\n",
    "   print('There is an error')"
   ]
  },
  {
   "cell_type": "code",
   "execution_count": 30,
   "id": "29236126-c890-4ed5-b74b-1fabb1f5eb9c",
   "metadata": {},
   "outputs": [
    {
     "name": "stdout",
     "output_type": "stream",
     "text": [
      "_________________________________________\n",
      "|                   *                   |\n",
      "|                  ***                  |\n",
      "|                 *****                 |\n",
      "|                *******                |\n",
      "|               *********               |\n",
      "|              ***********              |\n",
      "|             *************             |\n",
      "|            ***************            |\n",
      "|           *****************           |\n",
      "|          *******************          |\n",
      "|         *********************         |\n",
      "|        ***********************        |\n",
      "|       *************************       |\n",
      "|      ***************************      |\n",
      "|     *****************************     |\n",
      "|    *******************************    |\n",
      "|   *********************************   |\n",
      "|  ***********************************  |\n",
      "| ************************************* |\n",
      "|***************************************|\n",
      "|_______________________________________|\n"
     ]
    }
   ],
   "source": [
    "def star_triangle(n):\n",
    "    stars = 1\n",
    "    oneside_spaces = n-1\n",
    "    print(\"_\"*(2*n+1))\n",
    "    while stars <= 2*n -1:\n",
    "        print('|'+\" \"*(oneside_spaces) + \"*\" * stars + \" \"*(oneside_spaces)+ '|')\n",
    "        oneside_spaces -= 1\n",
    "        stars += 2\n",
    "    print(\"|\"+\"_\"*(2*n-1)+\"|\")\n",
    "\n",
    "star_triangle(20)"
   ]
  },
  {
   "cell_type": "code",
   "execution_count": 38,
   "id": "8f6c7fea-2299-4050-bbc5-b1a984f96195",
   "metadata": {},
   "outputs": [
    {
     "name": "stdout",
     "output_type": "stream",
     "text": [
      "[1, 2, 3]\n"
     ]
    }
   ],
   "source": [
    "counter = [1,2]\n",
    "\n",
    "def increment(counter):\n",
    "   counter += [3]\n",
    "\n",
    "increment(counter)\n",
    "print(counter)"
   ]
  },
  {
   "cell_type": "code",
   "execution_count": 39,
   "id": "e11e683e-c66a-4e11-872c-6ad4cb75c9f9",
   "metadata": {},
   "outputs": [
    {
     "name": "stdout",
     "output_type": "stream",
     "text": [
      "1\n",
      "4\n",
      "9\n",
      "16\n",
      "25\n",
      "36\n",
      "49\n"
     ]
    }
   ],
   "source": [
    "def squares(n):\n",
    "    i=1\n",
    "    while(i<=n):\n",
    "        yield i**2\n",
    "        i+=1\n",
    "for i in squares(7):\n",
    "    print(i)"
   ]
  },
  {
   "cell_type": "code",
   "execution_count": 54,
   "id": "41891bc4-1fb9-4c72-860c-1fe54a0eada7",
   "metadata": {},
   "outputs": [
    {
     "name": "stdout",
     "output_type": "stream",
     "text": [
      "101 231313322213\n"
     ]
    },
    {
     "data": {
      "text/plain": [
       "False"
      ]
     },
     "execution_count": 54,
     "metadata": {},
     "output_type": "execute_result"
    }
   ],
   "source": [
    "import math\n",
    "def is_prime(n):\n",
    "    for i in range(2,math.floor(math.sqrt(n))):\n",
    "        if n % i == 0:\n",
    "            print(i, n)\n",
    "            return False\n",
    "    return True\n",
    "\n",
    "is_prime(231313322213)"
   ]
  }
 ],
 "metadata": {
  "kernelspec": {
   "display_name": "Python 3 (ipykernel)",
   "language": "python",
   "name": "python3"
  },
  "language_info": {
   "codemirror_mode": {
    "name": "ipython",
    "version": 3
   },
   "file_extension": ".py",
   "mimetype": "text/x-python",
   "name": "python",
   "nbconvert_exporter": "python",
   "pygments_lexer": "ipython3",
   "version": "3.9.7"
  }
 },
 "nbformat": 4,
 "nbformat_minor": 5
}
